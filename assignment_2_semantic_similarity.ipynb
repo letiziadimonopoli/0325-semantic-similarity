{
 "cells": [
  {
   "cell_type": "markdown",
   "id": "cggPj2KXKHfs",
   "metadata": {
    "id": "cggPj2KXKHfs"
   },
   "source": [
    "## Assignment 2: Measuring Semantic Similarity\n",
    "\n",
    "In this assignment, you will be using semantic similarity to identify relevant responses to user questions in a conversational context.\n",
    "The goal, for a given question, is to find the most similar question and return its corresponding response.\n",
    "This involves using different text representation techniques to quantify the semantic similarity between questions.\n",
    "\n",
    "### 📚 Data\n",
    "\n",
    "The data you will be working with consists of real-world conversations between users and a large language model.\n",
    "Each entry in the data consists of a user question and a model-generated response, identified by a unique conversation ID.\n",
    "\n",
    "- `conversation_id`: 1983b94c7d5849aea507a9a8fb467af8\n",
    "- `user_prompt`: What is the primary color of a tiger?\n",
    "- `model_response`: The primary color of a tiger is orange.\n",
    "\n",
    "The data is split into three splits.\n",
    "The TRAIN and DEV splits, released with the start of the assignment, contain prompts and responses. Use these to develop your retrieval method. \n",
    "The TEST set contains only prompts. This is what you will be assessed on.\n",
    "\n",
    "Please note that these are real conversations between LLMs and users. \n",
    "We filtered out likely-inappropriate content, but some prompts and responses may still be sensitive or offensive.\n",
    "\n",
    "### 📝 Task\n",
    "\n",
    "Your task is to implement a **retrieval method** that, when given a new TEST question (`user_prompt`), finds **the most similar question from the TRAIN + DEV dataset** and returns the corresponding answer of this question (`model_response`).\n",
    "To achieve this, you need to first represent all questions in TRAIN and DEV in some way, and then use similarity metrics (like cosine similarity) to compare them to the given TEST question.\n",
    "\n",
    "For the purpose of this assignment, you should **assume that the most similar question will have the most relevant response**, even if this is not always the case.\n",
    "You will be assessed based on how similar the response you retrieved is to the actual response (see below).\n",
    "\n",
    "### ⚙️ Implementation\n",
    "\n",
    "You will need to use different text representation methods to convert user prompts into a numerical format, for which you can then calculate similarity.\n",
    "There will be three Tracks.\n",
    "Each track corresponds to a different text representation method.\n",
    "\n",
    "- **Track 1: Discrete Text Representation**. Choose a discrete representation method we have seen in class, such as n-gram word or character-level representations, Count Vectorizer, or TF-IDF.\n",
    "\n",
    "- **Track 2: Distributed Static Text Representation**. Choose a static distributed representation method we have seen in class, such as Word2vec, Doc2Vec, or pretrained embeddings like FastText.\n",
    "\n",
    "- **Track 3 (✨BONUS✨): Open Text Representation**. In this track, you can use any combination of the two previous or another representation method. This could include methods not covered in class.\n",
    "\n",
    "**You must develop solutions for Track 1 and Track 2**.\n",
    "Track 3 is optional.\n",
    "\n",
    "### 🏅 Assessment\n",
    "\n",
    "Tracks will have equal weighting in the final grade.\n",
    "If you submit to Track 3, **we will choose the best two tracks for evaluating your assignment**.\n",
    "\n",
    "For each track, you will be assessed based on the BLEU score of the responses you retrieve for the TEST set relative to the actual responses (which you do not know).\n",
    "The BLEU score is a word-overlap metric developed for machine translation that is used for all kinds of language generation tasks.\n",
    "It measures the 1–4-gram overlap between a system's output and at least one reference (the \"correct\" response).\n",
    "We have provided an example for how to calculate BLEU below, which you should use in developing your retrieval method using the TRAIN and DEV sets.\n",
    "\n",
    "You will be assessed on the TEST set, for which you will not have access to the responses.\n",
    "For each prompt in the TEST set, you will need to retrieve the most similar prompt from the combination of the TRAIN and DEV sets.\n",
    "\n",
    "For each track, your submission will be a CSV file with two columns:\n",
    "`conversation_id`, which is the conversation ID of the prompt in the TEST set, and\n",
    "`response_id`, which is the conversation ID of the most similar prompt in the combination of the TRAIN and DEV sets.\n",
    "It is extremely important that you follow this format, and return only IDs, not text responses.\n",
    "\n",
    "You also have to submit a brief description of the methodology you used for each track (max 100 words per track).\n",
    "It is very important that you stick to the \"allowed\" methods for each track.\n",
    "We will check your code, and if you are not, you will receive a 0 for that track.\n",
    "\n",
    "### 📥 Submission Instructions\n",
    "\n",
    "Follow these instructions to submit your assigment on BlackBoard:\n",
    "\n",
    "1. **File structure**: Ensure that your submission is a .zip file, and that it contains the following items with exactly these specified names:\n",
    "  - `track_1_test.csv`: A CSV file with two columns (conversation_id, response_id) for Track 1.\n",
    "  - `track_2_test.csv`: A CSV file with two columns (conversation_id, response_id) for Track 2.\n",
    "  - `track_3_test.csv` (optional): A CSV file with two columns (conversation_id, response_id) for Track 3.\n",
    "  - `description.txt`: A brief description of the methodology you used for each track (max 100 words per track).\n",
    "  - `/code`: A folder containing all your code for the assignment. This code needs to be well-documented, and fully and easily reproducible by us. If your code is too large, include a README file with Google Drive link.\n",
    "2. **Submission**: Upload the .zip file to the BlackBoard Assignment 2 section.\n",
    "3. **Deadline**: Please refer to BlackBoard."
   ]
  },
  {
   "cell_type": "code",
   "execution_count": null,
   "id": "Jc1yyWx-h5WG",
   "metadata": {
    "colab": {
     "base_uri": "https://localhost:8080/"
    },
    "id": "Jc1yyWx-h5WG",
    "outputId": "0f10b5ff-5d37-40cd-e510-a85cc6796cc7"
   },
   "outputs": [
    {
     "name": "stdout",
     "output_type": "stream",
     "text": [
      "                     model_response               retrieved_response  \\\n",
      "0  The color of a banana is yellow.  The color of a lemon is yellow.   \n",
      "\n",
      "   bleu_score  \n",
      "0    0.755929  \n"
     ]
    }
   ],
   "source": [
    "# example of BLEU score calculation using the NLTK library\n",
    "# we will use this implementation to evaluate your submissions\n",
    "\n",
    "import pandas as pd\n",
    "from nltk.translate.bleu_score import sentence_bleu\n",
    "from nltk.translate.bleu_score import SmoothingFunction\n",
    "\n",
    "data = pd.DataFrame([\n",
    "                    {'conversation_id': '19889c5198asf837a9a8fb467af8',\n",
    "                    'user_prompt': 'What is the color of a banana?',\n",
    "                    'model_response': 'The color of a banana is yellow.',\n",
    "                    'retrieved_response': 'The color of a lemon is yellow.'}\n",
    "                  ])\n",
    "\n",
    "# Smoothing function\n",
    "smoothingfunction = SmoothingFunction() # if you want to know more about smoothing functions: https://aclanthology.org/W14-3346.pdf\n",
    "\n",
    "# BLEU score calculation\n",
    "data['bleu_score'] = data.apply(lambda x: sentence_bleu([x['model_response'].split()], x['retrieved_response'].split(), weights=(0.5, 0.5, 0, 0), smoothing_function=smoothingfunction.method3), axis=1)\n",
    "\n",
    "# Print the DataFrame with the BLEU score\n",
    "display(data[['model_response', 'retrieved_response', 'bleu_score']])"
   ]
  }
 ],
 "metadata": {
  "colab": {
   "provenance": []
  },
  "kernelspec": {
   "display_name": "Python 3 (ipykernel)",
   "language": "python",
   "name": "python3"
  },
  "language_info": {
   "codemirror_mode": {
    "name": "ipython",
    "version": 3
   },
   "file_extension": ".py",
   "mimetype": "text/x-python",
   "name": "python",
   "nbconvert_exporter": "python",
   "pygments_lexer": "ipython3",
   "version": "3.9.18"
  }
 },
 "nbformat": 4,
 "nbformat_minor": 5
}
